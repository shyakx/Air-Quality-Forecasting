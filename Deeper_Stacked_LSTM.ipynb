{
  "nbformat": 4,
  "nbformat_minor": 0,
  "metadata": {
    "colab": {
      "provenance": [],
      "authorship_tag": "ABX9TyONVld2IVYAYtPuejkKt28b",
      "include_colab_link": true
    },
    "kernelspec": {
      "name": "python3",
      "display_name": "Python 3"
    },
    "language_info": {
      "name": "python"
    }
  },
  "cells": [
    {
      "cell_type": "markdown",
      "metadata": {
        "id": "view-in-github",
        "colab_type": "text"
      },
      "source": [
        "<a href=\"https://colab.research.google.com/github/shyakx/Air-Quality-Forecasting/blob/main/Deeper_Stacked_LSTM.ipynb\" target=\"_parent\"><img src=\"https://colab.research.google.com/assets/colab-badge.svg\" alt=\"Open In Colab\"/></a>"
      ]
    },
    {
      "cell_type": "code",
      "execution_count": 4,
      "metadata": {
        "id": "TYNlAdgGpE5n",
        "colab": {
          "base_uri": "https://localhost:8080/"
        },
        "outputId": "ad3412ff-626f-42d6-af6b-1936be9aafa4"
      },
      "outputs": [
        {
          "output_type": "stream",
          "name": "stderr",
          "text": [
            "/usr/local/lib/python3.11/dist-packages/keras/src/layers/rnn/rnn.py:200: UserWarning: Do not pass an `input_shape`/`input_dim` argument to a layer. When using Sequential models, prefer using an `Input(shape)` object as the first layer in the model instead.\n",
            "  super().__init__(**kwargs)\n"
          ]
        },
        {
          "output_type": "stream",
          "name": "stdout",
          "text": [
            "Epoch 1/50\n",
            "\u001b[1m404/404\u001b[0m \u001b[32m━━━━━━━━━━━━━━━━━━━━\u001b[0m\u001b[37m\u001b[0m \u001b[1m35s\u001b[0m 77ms/step - loss: 0.0088 - val_loss: 0.0058\n",
            "Epoch 2/50\n",
            "\u001b[1m404/404\u001b[0m \u001b[32m━━━━━━━━━━━━━━━━━━━━\u001b[0m\u001b[37m\u001b[0m \u001b[1m41s\u001b[0m 77ms/step - loss: 0.0067 - val_loss: 0.0048\n",
            "Epoch 3/50\n",
            "\u001b[1m404/404\u001b[0m \u001b[32m━━━━━━━━━━━━━━━━━━━━\u001b[0m\u001b[37m\u001b[0m \u001b[1m33s\u001b[0m 82ms/step - loss: 0.0064 - val_loss: 0.0046\n",
            "Epoch 4/50\n",
            "\u001b[1m404/404\u001b[0m \u001b[32m━━━━━━━━━━━━━━━━━━━━\u001b[0m\u001b[37m\u001b[0m \u001b[1m39s\u001b[0m 78ms/step - loss: 0.0061 - val_loss: 0.0045\n",
            "Epoch 5/50\n",
            "\u001b[1m404/404\u001b[0m \u001b[32m━━━━━━━━━━━━━━━━━━━━\u001b[0m\u001b[37m\u001b[0m \u001b[1m40s\u001b[0m 77ms/step - loss: 0.0058 - val_loss: 0.0046\n",
            "Epoch 6/50\n",
            "\u001b[1m404/404\u001b[0m \u001b[32m━━━━━━━━━━━━━━━━━━━━\u001b[0m\u001b[37m\u001b[0m \u001b[1m31s\u001b[0m 76ms/step - loss: 0.0057 - val_loss: 0.0046\n",
            "Epoch 7/50\n",
            "\u001b[1m404/404\u001b[0m \u001b[32m━━━━━━━━━━━━━━━━━━━━\u001b[0m\u001b[37m\u001b[0m \u001b[1m44s\u001b[0m 82ms/step - loss: 0.0057 - val_loss: 0.0043\n",
            "Epoch 8/50\n",
            "\u001b[1m404/404\u001b[0m \u001b[32m━━━━━━━━━━━━━━━━━━━━\u001b[0m\u001b[37m\u001b[0m \u001b[1m40s\u001b[0m 80ms/step - loss: 0.0056 - val_loss: 0.0043\n",
            "Epoch 9/50\n",
            "\u001b[1m404/404\u001b[0m \u001b[32m━━━━━━━━━━━━━━━━━━━━\u001b[0m\u001b[37m\u001b[0m \u001b[1m39s\u001b[0m 77ms/step - loss: 0.0055 - val_loss: 0.0042\n",
            "Epoch 10/50\n",
            "\u001b[1m404/404\u001b[0m \u001b[32m━━━━━━━━━━━━━━━━━━━━\u001b[0m\u001b[37m\u001b[0m \u001b[1m41s\u001b[0m 77ms/step - loss: 0.0051 - val_loss: 0.0044\n",
            "Epoch 11/50\n",
            "\u001b[1m404/404\u001b[0m \u001b[32m━━━━━━━━━━━━━━━━━━━━\u001b[0m\u001b[37m\u001b[0m \u001b[1m41s\u001b[0m 78ms/step - loss: 0.0053 - val_loss: 0.0045\n",
            "Epoch 12/50\n",
            "\u001b[1m404/404\u001b[0m \u001b[32m━━━━━━━━━━━━━━━━━━━━\u001b[0m\u001b[37m\u001b[0m \u001b[1m41s\u001b[0m 79ms/step - loss: 0.0052 - val_loss: 0.0044\n",
            "Epoch 13/50\n",
            "\u001b[1m404/404\u001b[0m \u001b[32m━━━━━━━━━━━━━━━━━━━━\u001b[0m\u001b[37m\u001b[0m \u001b[1m39s\u001b[0m 75ms/step - loss: 0.0050 - val_loss: 0.0046\n",
            "Epoch 14/50\n",
            "\u001b[1m404/404\u001b[0m \u001b[32m━━━━━━━━━━━━━━━━━━━━\u001b[0m\u001b[37m\u001b[0m \u001b[1m41s\u001b[0m 75ms/step - loss: 0.0049 - val_loss: 0.0044\n",
            "Epoch 15/50\n",
            "\u001b[1m404/404\u001b[0m \u001b[32m━━━━━━━━━━━━━━━━━━━━\u001b[0m\u001b[37m\u001b[0m \u001b[1m44s\u001b[0m 84ms/step - loss: 0.0048 - val_loss: 0.0046\n",
            "Epoch 16/50\n",
            "\u001b[1m404/404\u001b[0m \u001b[32m━━━━━━━━━━━━━━━━━━━━\u001b[0m\u001b[37m\u001b[0m \u001b[1m39s\u001b[0m 78ms/step - loss: 0.0048 - val_loss: 0.0043\n",
            "Epoch 17/50\n",
            "\u001b[1m404/404\u001b[0m \u001b[32m━━━━━━━━━━━━━━━━━━━━\u001b[0m\u001b[37m\u001b[0m \u001b[1m31s\u001b[0m 76ms/step - loss: 0.0046 - val_loss: 0.0046\n",
            "Epoch 18/50\n",
            "\u001b[1m404/404\u001b[0m \u001b[32m━━━━━━━━━━━━━━━━━━━━\u001b[0m\u001b[37m\u001b[0m \u001b[1m41s\u001b[0m 76ms/step - loss: 0.0047 - val_loss: 0.0044\n",
            "Epoch 19/50\n",
            "\u001b[1m404/404\u001b[0m \u001b[32m━━━━━━━━━━━━━━━━━━━━\u001b[0m\u001b[37m\u001b[0m \u001b[1m42s\u001b[0m 79ms/step - loss: 0.0043 - val_loss: 0.0047\n",
            "\u001b[1m90/90\u001b[0m \u001b[32m━━━━━━━━━━━━━━━━━━━━\u001b[0m\u001b[37m\u001b[0m \u001b[1m4s\u001b[0m 37ms/step\n",
            "Validation RMSE: 64.70\n",
            "\u001b[1m410/410\u001b[0m \u001b[32m━━━━━━━━━━━━━━━━━━━━\u001b[0m\u001b[37m\u001b[0m \u001b[1m9s\u001b[0m 22ms/step\n",
            "✅ Submission file saved as submission.csv\n"
          ]
        }
      ],
      "source": [
        "# Architecture 1: Simple Bidirectional LSTM\n",
        "\n",
        "import pandas as pd\n",
        "import numpy as np\n",
        "from sklearn.model_selection import train_test_split\n",
        "from sklearn.preprocessing import MinMaxScaler\n",
        "from sklearn.metrics import mean_squared_error\n",
        "from math import sqrt\n",
        "from tensorflow.keras.models import Sequential\n",
        "from tensorflow.keras.layers import LSTM, Dense, Dropout, Bidirectional\n",
        "from tensorflow.keras.callbacks import EarlyStopping\n",
        "\n",
        "# Load data\n",
        "train_df = pd.read_csv('/content/train.csv')\n",
        "test_df = pd.read_csv('/content/test.csv')\n",
        "sample_submission = pd.read_csv('/content/sample_submission.csv')\n",
        "\n",
        "# Preprocessing\n",
        "train_df.dropna(subset=['pm2.5'], inplace=True)\n",
        "for df in [train_df, test_df]:\n",
        "    df['datetime'] = pd.to_datetime(df['datetime'])\n",
        "    df['hour'] = df['datetime'].dt.hour\n",
        "    df['dayofweek'] = df['datetime'].dt.dayofweek\n",
        "    df['month'] = df['datetime'].dt.month\n",
        "\n",
        "features = ['TEMP', 'PRES', 'Iws', 'hour', 'dayofweek', 'month']\n",
        "target = 'pm2.5'\n",
        "\n",
        "feature_scaler = MinMaxScaler()\n",
        "target_scaler = MinMaxScaler()\n",
        "\n",
        "scaled_features = feature_scaler.fit_transform(train_df[features])\n",
        "scaled_target = target_scaler.fit_transform(train_df[[target]])\n",
        "\n",
        "scaled_df = pd.DataFrame(scaled_features, columns=features)\n",
        "scaled_df['pm2.5'] = scaled_target\n",
        "\n",
        "# Sequence creation\n",
        "def create_sequences(data, target_column, window_size):\n",
        "    X, y = [], []\n",
        "    for i in range(len(data) - window_size):\n",
        "        X.append(data.iloc[i:i+window_size][features].values)\n",
        "        y.append(data.iloc[i+window_size][target_column])\n",
        "    return np.array(X), np.array(y)\n",
        "\n",
        "window_size = 48\n",
        "X, y = create_sequences(scaled_df, 'pm2.5', window_size=window_size)\n",
        "X_train, X_val, y_train, y_val = train_test_split(X, y, test_size=0.1, shuffle=False)\n",
        "\n",
        "# Model:  LSTM + Dense Layers\n",
        "model = Sequential()\n",
        "model.add(LSTM(128, input_shape=(X_train.shape[1], X_train.shape[2])))\n",
        "model.add(Dropout(0.3))\n",
        "model.add(Dense(64, activation='relu'))\n",
        "model.add(Dense(32, activation='relu'))\n",
        "model.add(Dense(1))\n",
        "model.compile(optimizer='adam', loss='mse')\n",
        "\n",
        "early_stop = EarlyStopping(monitor='val_loss', patience=10, restore_best_weights=True)\n",
        "# Training\n",
        "history = model.fit(X_train, y_train, epochs=50, batch_size=64, validation_data=(X_val, y_val), callbacks=[early_stop])\n",
        "\n",
        "# Evaluation\n",
        "val_preds = model.predict(X_val)\n",
        "val_preds_original = target_scaler.inverse_transform(val_preds)\n",
        "y_val_original = target_scaler.inverse_transform(y_val.reshape(-1, 1))\n",
        "rmse = sqrt(mean_squared_error(y_val_original, val_preds_original))\n",
        "print(f'Validation RMSE: {rmse:.2f}')\n",
        "\n",
        "# Test predictions\n",
        "test_scaled = feature_scaler.transform(test_df[features])\n",
        "test_scaled_df = pd.DataFrame(test_scaled, columns=features)\n",
        "X_test = []\n",
        "for i in range(len(test_scaled_df) - window_size):\n",
        "    X_test.append(test_scaled_df.iloc[i:i+window_size][features].values)\n",
        "X_test = np.array(X_test)\n",
        "\n",
        "test_preds_scaled = model.predict(X_test)\n",
        "test_preds = target_scaler.inverse_transform(test_preds_scaled)\n",
        "\n",
        "# Submission\n",
        "submission = sample_submission.copy()\n",
        "submission['pm2.5'] = np.concatenate([\n",
        "    test_preds.flatten(),\n",
        "    np.full(len(sample_submission) - len(test_preds), test_preds.flatten()[-1])\n",
        "])\n",
        "submission.to_csv('/content/submissionB.csv', index=False)\n",
        "print(\"✅ Submission file saved as submission.csv\")"
      ]
    }
  ]
}